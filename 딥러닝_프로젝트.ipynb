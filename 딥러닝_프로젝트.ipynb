{
  "nbformat": 4,
  "nbformat_minor": 0,
  "metadata": {
    "colab": {
      "name": "딥러닝 프로젝트.ipynb",
      "provenance": [],
      "collapsed_sections": []
    },
    "kernelspec": {
      "name": "python3",
      "display_name": "Python 3"
    },
    "language_info": {
      "name": "python"
    },
    "accelerator": "GPU",
    "widgets": {
      "application/vnd.jupyter.widget-state+json": {
        "ea1b01df21314437a11c3f24214aa3a8": {
          "model_module": "@jupyter-widgets/controls",
          "model_name": "HBoxModel",
          "state": {
            "_view_name": "HBoxView",
            "_dom_classes": [],
            "_model_name": "HBoxModel",
            "_view_module": "@jupyter-widgets/controls",
            "_model_module_version": "1.5.0",
            "_view_count": null,
            "_view_module_version": "1.5.0",
            "box_style": "",
            "layout": "IPY_MODEL_88e77fd25b97477eb878bf7fbd7b1d67",
            "_model_module": "@jupyter-widgets/controls",
            "children": [
              "IPY_MODEL_f250175c6be54432a9f3c032d737c3fc",
              "IPY_MODEL_8a5ef804f8f94a8c9aa4e6cfb82b0f31"
            ]
          },
          "model_module_version": "1.5.0"
        },
        "88e77fd25b97477eb878bf7fbd7b1d67": {
          "model_module": "@jupyter-widgets/base",
          "model_name": "LayoutModel",
          "state": {
            "_view_name": "LayoutView",
            "grid_template_rows": null,
            "right": null,
            "justify_content": null,
            "_view_module": "@jupyter-widgets/base",
            "overflow": null,
            "_model_module_version": "1.2.0",
            "_view_count": null,
            "flex_flow": null,
            "width": null,
            "min_width": null,
            "border": null,
            "align_items": null,
            "bottom": null,
            "_model_module": "@jupyter-widgets/base",
            "top": null,
            "grid_column": null,
            "overflow_y": null,
            "overflow_x": null,
            "grid_auto_flow": null,
            "grid_area": null,
            "grid_template_columns": null,
            "flex": null,
            "_model_name": "LayoutModel",
            "justify_items": null,
            "grid_row": null,
            "max_height": null,
            "align_content": null,
            "visibility": null,
            "align_self": null,
            "height": null,
            "min_height": null,
            "padding": null,
            "grid_auto_rows": null,
            "grid_gap": null,
            "max_width": null,
            "order": null,
            "_view_module_version": "1.2.0",
            "grid_template_areas": null,
            "object_position": null,
            "object_fit": null,
            "grid_auto_columns": null,
            "margin": null,
            "display": null,
            "left": null
          },
          "model_module_version": "1.2.0"
        },
        "f250175c6be54432a9f3c032d737c3fc": {
          "model_module": "@jupyter-widgets/controls",
          "model_name": "FloatProgressModel",
          "state": {
            "_view_name": "ProgressView",
            "style": "IPY_MODEL_4e84ba3b2cc9410bad2942ad80396a8d",
            "_dom_classes": [],
            "description": "Dl Completed...: 100%",
            "_model_name": "FloatProgressModel",
            "bar_style": "success",
            "max": 1,
            "_view_module": "@jupyter-widgets/controls",
            "_model_module_version": "1.5.0",
            "value": 1,
            "_view_count": null,
            "_view_module_version": "1.5.0",
            "orientation": "horizontal",
            "min": 0,
            "description_tooltip": null,
            "_model_module": "@jupyter-widgets/controls",
            "layout": "IPY_MODEL_5d7e9453a5464c5696bba2d5de766414"
          },
          "model_module_version": "1.5.0"
        },
        "8a5ef804f8f94a8c9aa4e6cfb82b0f31": {
          "model_module": "@jupyter-widgets/controls",
          "model_name": "HTMLModel",
          "state": {
            "_view_name": "HTMLView",
            "style": "IPY_MODEL_fcdb92c7da0b459eb0b7f412d74d5642",
            "_dom_classes": [],
            "description": "",
            "_model_name": "HTMLModel",
            "placeholder": "​",
            "_view_module": "@jupyter-widgets/controls",
            "_model_module_version": "1.5.0",
            "value": " 1/1 [00:11&lt;00:00, 11.09s/ url]",
            "_view_count": null,
            "_view_module_version": "1.5.0",
            "description_tooltip": null,
            "_model_module": "@jupyter-widgets/controls",
            "layout": "IPY_MODEL_33e8f58c18454a7798ad8c1d38701993"
          },
          "model_module_version": "1.5.0"
        },
        "4e84ba3b2cc9410bad2942ad80396a8d": {
          "model_module": "@jupyter-widgets/controls",
          "model_name": "ProgressStyleModel",
          "state": {
            "_view_name": "StyleView",
            "_model_name": "ProgressStyleModel",
            "description_width": "initial",
            "_view_module": "@jupyter-widgets/base",
            "_model_module_version": "1.5.0",
            "_view_count": null,
            "_view_module_version": "1.2.0",
            "bar_color": null,
            "_model_module": "@jupyter-widgets/controls"
          },
          "model_module_version": "1.5.0"
        },
        "5d7e9453a5464c5696bba2d5de766414": {
          "model_module": "@jupyter-widgets/base",
          "model_name": "LayoutModel",
          "state": {
            "_view_name": "LayoutView",
            "grid_template_rows": null,
            "right": null,
            "justify_content": null,
            "_view_module": "@jupyter-widgets/base",
            "overflow": null,
            "_model_module_version": "1.2.0",
            "_view_count": null,
            "flex_flow": null,
            "width": null,
            "min_width": null,
            "border": null,
            "align_items": null,
            "bottom": null,
            "_model_module": "@jupyter-widgets/base",
            "top": null,
            "grid_column": null,
            "overflow_y": null,
            "overflow_x": null,
            "grid_auto_flow": null,
            "grid_area": null,
            "grid_template_columns": null,
            "flex": null,
            "_model_name": "LayoutModel",
            "justify_items": null,
            "grid_row": null,
            "max_height": null,
            "align_content": null,
            "visibility": null,
            "align_self": null,
            "height": null,
            "min_height": null,
            "padding": null,
            "grid_auto_rows": null,
            "grid_gap": null,
            "max_width": null,
            "order": null,
            "_view_module_version": "1.2.0",
            "grid_template_areas": null,
            "object_position": null,
            "object_fit": null,
            "grid_auto_columns": null,
            "margin": null,
            "display": null,
            "left": null
          },
          "model_module_version": "1.2.0"
        },
        "fcdb92c7da0b459eb0b7f412d74d5642": {
          "model_module": "@jupyter-widgets/controls",
          "model_name": "DescriptionStyleModel",
          "state": {
            "_view_name": "StyleView",
            "_model_name": "DescriptionStyleModel",
            "description_width": "",
            "_view_module": "@jupyter-widgets/base",
            "_model_module_version": "1.5.0",
            "_view_count": null,
            "_view_module_version": "1.2.0",
            "_model_module": "@jupyter-widgets/controls"
          },
          "model_module_version": "1.5.0"
        },
        "33e8f58c18454a7798ad8c1d38701993": {
          "model_module": "@jupyter-widgets/base",
          "model_name": "LayoutModel",
          "state": {
            "_view_name": "LayoutView",
            "grid_template_rows": null,
            "right": null,
            "justify_content": null,
            "_view_module": "@jupyter-widgets/base",
            "overflow": null,
            "_model_module_version": "1.2.0",
            "_view_count": null,
            "flex_flow": null,
            "width": null,
            "min_width": null,
            "border": null,
            "align_items": null,
            "bottom": null,
            "_model_module": "@jupyter-widgets/base",
            "top": null,
            "grid_column": null,
            "overflow_y": null,
            "overflow_x": null,
            "grid_auto_flow": null,
            "grid_area": null,
            "grid_template_columns": null,
            "flex": null,
            "_model_name": "LayoutModel",
            "justify_items": null,
            "grid_row": null,
            "max_height": null,
            "align_content": null,
            "visibility": null,
            "align_self": null,
            "height": null,
            "min_height": null,
            "padding": null,
            "grid_auto_rows": null,
            "grid_gap": null,
            "max_width": null,
            "order": null,
            "_view_module_version": "1.2.0",
            "grid_template_areas": null,
            "object_position": null,
            "object_fit": null,
            "grid_auto_columns": null,
            "margin": null,
            "display": null,
            "left": null
          },
          "model_module_version": "1.2.0"
        },
        "fde6eb9125fb4d8d9fdd2f76175dd33d": {
          "model_module": "@jupyter-widgets/controls",
          "model_name": "HBoxModel",
          "state": {
            "_view_name": "HBoxView",
            "_dom_classes": [],
            "_model_name": "HBoxModel",
            "_view_module": "@jupyter-widgets/controls",
            "_model_module_version": "1.5.0",
            "_view_count": null,
            "_view_module_version": "1.5.0",
            "box_style": "",
            "layout": "IPY_MODEL_9d1da3ac6e8d45caaef5cc69549e6388",
            "_model_module": "@jupyter-widgets/controls",
            "children": [
              "IPY_MODEL_821c5122fe04474b85a4c3f05c7e9e29",
              "IPY_MODEL_1b47d62f6931407090c53a17a79088bb"
            ]
          },
          "model_module_version": "1.5.0"
        },
        "9d1da3ac6e8d45caaef5cc69549e6388": {
          "model_module": "@jupyter-widgets/base",
          "model_name": "LayoutModel",
          "state": {
            "_view_name": "LayoutView",
            "grid_template_rows": null,
            "right": null,
            "justify_content": null,
            "_view_module": "@jupyter-widgets/base",
            "overflow": null,
            "_model_module_version": "1.2.0",
            "_view_count": null,
            "flex_flow": null,
            "width": null,
            "min_width": null,
            "border": null,
            "align_items": null,
            "bottom": null,
            "_model_module": "@jupyter-widgets/base",
            "top": null,
            "grid_column": null,
            "overflow_y": null,
            "overflow_x": null,
            "grid_auto_flow": null,
            "grid_area": null,
            "grid_template_columns": null,
            "flex": null,
            "_model_name": "LayoutModel",
            "justify_items": null,
            "grid_row": null,
            "max_height": null,
            "align_content": null,
            "visibility": null,
            "align_self": null,
            "height": null,
            "min_height": null,
            "padding": null,
            "grid_auto_rows": null,
            "grid_gap": null,
            "max_width": null,
            "order": null,
            "_view_module_version": "1.2.0",
            "grid_template_areas": null,
            "object_position": null,
            "object_fit": null,
            "grid_auto_columns": null,
            "margin": null,
            "display": null,
            "left": null
          },
          "model_module_version": "1.2.0"
        },
        "821c5122fe04474b85a4c3f05c7e9e29": {
          "model_module": "@jupyter-widgets/controls",
          "model_name": "FloatProgressModel",
          "state": {
            "_view_name": "ProgressView",
            "style": "IPY_MODEL_1be7e478fed44b439f8e6009713d7ecb",
            "_dom_classes": [],
            "description": "Dl Size...: 100%",
            "_model_name": "FloatProgressModel",
            "bar_style": "success",
            "max": 1,
            "_view_module": "@jupyter-widgets/controls",
            "_model_module_version": "1.5.0",
            "value": 1,
            "_view_count": null,
            "_view_module_version": "1.5.0",
            "orientation": "horizontal",
            "min": 0,
            "description_tooltip": null,
            "_model_module": "@jupyter-widgets/controls",
            "layout": "IPY_MODEL_e145da1191f4496aa0dd2b21ef6f5528"
          },
          "model_module_version": "1.5.0"
        },
        "1b47d62f6931407090c53a17a79088bb": {
          "model_module": "@jupyter-widgets/controls",
          "model_name": "HTMLModel",
          "state": {
            "_view_name": "HTMLView",
            "style": "IPY_MODEL_760cc2249636401d932bb774eb5b443a",
            "_dom_classes": [],
            "description": "",
            "_model_name": "HTMLModel",
            "placeholder": "​",
            "_view_module": "@jupyter-widgets/controls",
            "_model_module_version": "1.5.0",
            "value": " 786/786 [00:11&lt;00:00, 71.08 MiB/s]",
            "_view_count": null,
            "_view_module_version": "1.5.0",
            "description_tooltip": null,
            "_model_module": "@jupyter-widgets/controls",
            "layout": "IPY_MODEL_b770da656eae48ee94e49c00a4c69242"
          },
          "model_module_version": "1.5.0"
        },
        "1be7e478fed44b439f8e6009713d7ecb": {
          "model_module": "@jupyter-widgets/controls",
          "model_name": "ProgressStyleModel",
          "state": {
            "_view_name": "StyleView",
            "_model_name": "ProgressStyleModel",
            "description_width": "initial",
            "_view_module": "@jupyter-widgets/base",
            "_model_module_version": "1.5.0",
            "_view_count": null,
            "_view_module_version": "1.2.0",
            "bar_color": null,
            "_model_module": "@jupyter-widgets/controls"
          },
          "model_module_version": "1.5.0"
        },
        "e145da1191f4496aa0dd2b21ef6f5528": {
          "model_module": "@jupyter-widgets/base",
          "model_name": "LayoutModel",
          "state": {
            "_view_name": "LayoutView",
            "grid_template_rows": null,
            "right": null,
            "justify_content": null,
            "_view_module": "@jupyter-widgets/base",
            "overflow": null,
            "_model_module_version": "1.2.0",
            "_view_count": null,
            "flex_flow": null,
            "width": null,
            "min_width": null,
            "border": null,
            "align_items": null,
            "bottom": null,
            "_model_module": "@jupyter-widgets/base",
            "top": null,
            "grid_column": null,
            "overflow_y": null,
            "overflow_x": null,
            "grid_auto_flow": null,
            "grid_area": null,
            "grid_template_columns": null,
            "flex": null,
            "_model_name": "LayoutModel",
            "justify_items": null,
            "grid_row": null,
            "max_height": null,
            "align_content": null,
            "visibility": null,
            "align_self": null,
            "height": null,
            "min_height": null,
            "padding": null,
            "grid_auto_rows": null,
            "grid_gap": null,
            "max_width": null,
            "order": null,
            "_view_module_version": "1.2.0",
            "grid_template_areas": null,
            "object_position": null,
            "object_fit": null,
            "grid_auto_columns": null,
            "margin": null,
            "display": null,
            "left": null
          },
          "model_module_version": "1.2.0"
        },
        "760cc2249636401d932bb774eb5b443a": {
          "model_module": "@jupyter-widgets/controls",
          "model_name": "DescriptionStyleModel",
          "state": {
            "_view_name": "StyleView",
            "_model_name": "DescriptionStyleModel",
            "description_width": "",
            "_view_module": "@jupyter-widgets/base",
            "_model_module_version": "1.5.0",
            "_view_count": null,
            "_view_module_version": "1.2.0",
            "_model_module": "@jupyter-widgets/controls"
          },
          "model_module_version": "1.5.0"
        },
        "b770da656eae48ee94e49c00a4c69242": {
          "model_module": "@jupyter-widgets/base",
          "model_name": "LayoutModel",
          "state": {
            "_view_name": "LayoutView",
            "grid_template_rows": null,
            "right": null,
            "justify_content": null,
            "_view_module": "@jupyter-widgets/base",
            "overflow": null,
            "_model_module_version": "1.2.0",
            "_view_count": null,
            "flex_flow": null,
            "width": null,
            "min_width": null,
            "border": null,
            "align_items": null,
            "bottom": null,
            "_model_module": "@jupyter-widgets/base",
            "top": null,
            "grid_column": null,
            "overflow_y": null,
            "overflow_x": null,
            "grid_auto_flow": null,
            "grid_area": null,
            "grid_template_columns": null,
            "flex": null,
            "_model_name": "LayoutModel",
            "justify_items": null,
            "grid_row": null,
            "max_height": null,
            "align_content": null,
            "visibility": null,
            "align_self": null,
            "height": null,
            "min_height": null,
            "padding": null,
            "grid_auto_rows": null,
            "grid_gap": null,
            "max_width": null,
            "order": null,
            "_view_module_version": "1.2.0",
            "grid_template_areas": null,
            "object_position": null,
            "object_fit": null,
            "grid_auto_columns": null,
            "margin": null,
            "display": null,
            "left": null
          },
          "model_module_version": "1.2.0"
        },
        "efc019227c304ffaa7fa0c6c35b9f20f": {
          "model_module": "@jupyter-widgets/controls",
          "model_name": "HBoxModel",
          "state": {
            "_view_name": "HBoxView",
            "_dom_classes": [],
            "_model_name": "HBoxModel",
            "_view_module": "@jupyter-widgets/controls",
            "_model_module_version": "1.5.0",
            "_view_count": null,
            "_view_module_version": "1.5.0",
            "box_style": "",
            "layout": "IPY_MODEL_e6623fb7f7444aeaa4816fdf0f656098",
            "_model_module": "@jupyter-widgets/controls",
            "children": [
              "IPY_MODEL_034abcaee8924e61b54b2b1c8b765915",
              "IPY_MODEL_f47e119d382a4844aad5c591d89f7410"
            ]
          },
          "model_module_version": "1.5.0"
        },
        "e6623fb7f7444aeaa4816fdf0f656098": {
          "model_module": "@jupyter-widgets/base",
          "model_name": "LayoutModel",
          "state": {
            "_view_name": "LayoutView",
            "grid_template_rows": null,
            "right": null,
            "justify_content": null,
            "_view_module": "@jupyter-widgets/base",
            "overflow": null,
            "_model_module_version": "1.2.0",
            "_view_count": null,
            "flex_flow": null,
            "width": null,
            "min_width": null,
            "border": null,
            "align_items": null,
            "bottom": null,
            "_model_module": "@jupyter-widgets/base",
            "top": null,
            "grid_column": null,
            "overflow_y": null,
            "overflow_x": null,
            "grid_auto_flow": null,
            "grid_area": null,
            "grid_template_columns": null,
            "flex": null,
            "_model_name": "LayoutModel",
            "justify_items": null,
            "grid_row": null,
            "max_height": null,
            "align_content": null,
            "visibility": null,
            "align_self": null,
            "height": null,
            "min_height": null,
            "padding": null,
            "grid_auto_rows": null,
            "grid_gap": null,
            "max_width": null,
            "order": null,
            "_view_module_version": "1.2.0",
            "grid_template_areas": null,
            "object_position": null,
            "object_fit": null,
            "grid_auto_columns": null,
            "margin": null,
            "display": null,
            "left": null
          },
          "model_module_version": "1.2.0"
        },
        "034abcaee8924e61b54b2b1c8b765915": {
          "model_module": "@jupyter-widgets/controls",
          "model_name": "FloatProgressModel",
          "state": {
            "_view_name": "ProgressView",
            "style": "IPY_MODEL_68312b3da53346a0a135ff48d42ddc58",
            "_dom_classes": [],
            "description": "",
            "_model_name": "FloatProgressModel",
            "bar_style": "info",
            "max": 1,
            "_view_module": "@jupyter-widgets/controls",
            "_model_module_version": "1.5.0",
            "value": 1,
            "_view_count": null,
            "_view_module_version": "1.5.0",
            "orientation": "horizontal",
            "min": 0,
            "description_tooltip": null,
            "_model_module": "@jupyter-widgets/controls",
            "layout": "IPY_MODEL_6ec58c20d4cf4e44b35f41ccb5b4bab5"
          },
          "model_module_version": "1.5.0"
        },
        "f47e119d382a4844aad5c591d89f7410": {
          "model_module": "@jupyter-widgets/controls",
          "model_name": "HTMLModel",
          "state": {
            "_view_name": "HTMLView",
            "style": "IPY_MODEL_abb26eaae96e4c31b05cf00e89ae0ad5",
            "_dom_classes": [],
            "description": "",
            "_model_name": "HTMLModel",
            "placeholder": "​",
            "_view_module": "@jupyter-widgets/controls",
            "_model_module_version": "1.5.0",
            "value": " 23262/0 [00:12&lt;00:00, 1946.90 examples/s]",
            "_view_count": null,
            "_view_module_version": "1.5.0",
            "description_tooltip": null,
            "_model_module": "@jupyter-widgets/controls",
            "layout": "IPY_MODEL_7337709df9f842438d615862d9c1fe56"
          },
          "model_module_version": "1.5.0"
        },
        "68312b3da53346a0a135ff48d42ddc58": {
          "model_module": "@jupyter-widgets/controls",
          "model_name": "ProgressStyleModel",
          "state": {
            "_view_name": "StyleView",
            "_model_name": "ProgressStyleModel",
            "description_width": "initial",
            "_view_module": "@jupyter-widgets/base",
            "_model_module_version": "1.5.0",
            "_view_count": null,
            "_view_module_version": "1.2.0",
            "bar_color": null,
            "_model_module": "@jupyter-widgets/controls"
          },
          "model_module_version": "1.5.0"
        },
        "6ec58c20d4cf4e44b35f41ccb5b4bab5": {
          "model_module": "@jupyter-widgets/base",
          "model_name": "LayoutModel",
          "state": {
            "_view_name": "LayoutView",
            "grid_template_rows": null,
            "right": null,
            "justify_content": null,
            "_view_module": "@jupyter-widgets/base",
            "overflow": null,
            "_model_module_version": "1.2.0",
            "_view_count": null,
            "flex_flow": null,
            "width": null,
            "min_width": null,
            "border": null,
            "align_items": null,
            "bottom": null,
            "_model_module": "@jupyter-widgets/base",
            "top": null,
            "grid_column": null,
            "overflow_y": null,
            "overflow_x": null,
            "grid_auto_flow": null,
            "grid_area": null,
            "grid_template_columns": null,
            "flex": null,
            "_model_name": "LayoutModel",
            "justify_items": null,
            "grid_row": null,
            "max_height": null,
            "align_content": null,
            "visibility": null,
            "align_self": null,
            "height": null,
            "min_height": null,
            "padding": null,
            "grid_auto_rows": null,
            "grid_gap": null,
            "max_width": null,
            "order": null,
            "_view_module_version": "1.2.0",
            "grid_template_areas": null,
            "object_position": null,
            "object_fit": null,
            "grid_auto_columns": null,
            "margin": null,
            "display": null,
            "left": null
          },
          "model_module_version": "1.2.0"
        },
        "abb26eaae96e4c31b05cf00e89ae0ad5": {
          "model_module": "@jupyter-widgets/controls",
          "model_name": "DescriptionStyleModel",
          "state": {
            "_view_name": "StyleView",
            "_model_name": "DescriptionStyleModel",
            "description_width": "",
            "_view_module": "@jupyter-widgets/base",
            "_model_module_version": "1.5.0",
            "_view_count": null,
            "_view_module_version": "1.2.0",
            "_model_module": "@jupyter-widgets/controls"
          },
          "model_module_version": "1.5.0"
        },
        "7337709df9f842438d615862d9c1fe56": {
          "model_module": "@jupyter-widgets/base",
          "model_name": "LayoutModel",
          "state": {
            "_view_name": "LayoutView",
            "grid_template_rows": null,
            "right": null,
            "justify_content": null,
            "_view_module": "@jupyter-widgets/base",
            "overflow": null,
            "_model_module_version": "1.2.0",
            "_view_count": null,
            "flex_flow": null,
            "width": null,
            "min_width": null,
            "border": null,
            "align_items": null,
            "bottom": null,
            "_model_module": "@jupyter-widgets/base",
            "top": null,
            "grid_column": null,
            "overflow_y": null,
            "overflow_x": null,
            "grid_auto_flow": null,
            "grid_area": null,
            "grid_template_columns": null,
            "flex": null,
            "_model_name": "LayoutModel",
            "justify_items": null,
            "grid_row": null,
            "max_height": null,
            "align_content": null,
            "visibility": null,
            "align_self": null,
            "height": null,
            "min_height": null,
            "padding": null,
            "grid_auto_rows": null,
            "grid_gap": null,
            "max_width": null,
            "order": null,
            "_view_module_version": "1.2.0",
            "grid_template_areas": null,
            "object_position": null,
            "object_fit": null,
            "grid_auto_columns": null,
            "margin": null,
            "display": null,
            "left": null
          },
          "model_module_version": "1.2.0"
        },
        "3c0b0b12234a416fabaa6746384d5d6b": {
          "model_module": "@jupyter-widgets/controls",
          "model_name": "HBoxModel",
          "state": {
            "_view_name": "HBoxView",
            "_dom_classes": [],
            "_model_name": "HBoxModel",
            "_view_module": "@jupyter-widgets/controls",
            "_model_module_version": "1.5.0",
            "_view_count": null,
            "_view_module_version": "1.5.0",
            "box_style": "",
            "layout": "IPY_MODEL_58f42f1846b345afa4adabc1ff207fdc",
            "_model_module": "@jupyter-widgets/controls",
            "children": [
              "IPY_MODEL_379bc15215b245f6826540f5b6d0b02e",
              "IPY_MODEL_978262d5e90545e3a07bfde3c569f3c3"
            ]
          },
          "model_module_version": "1.5.0"
        },
        "58f42f1846b345afa4adabc1ff207fdc": {
          "model_module": "@jupyter-widgets/base",
          "model_name": "LayoutModel",
          "state": {
            "_view_name": "LayoutView",
            "grid_template_rows": null,
            "right": null,
            "justify_content": null,
            "_view_module": "@jupyter-widgets/base",
            "overflow": null,
            "_model_module_version": "1.2.0",
            "_view_count": null,
            "flex_flow": null,
            "width": null,
            "min_width": null,
            "border": null,
            "align_items": null,
            "bottom": null,
            "_model_module": "@jupyter-widgets/base",
            "top": null,
            "grid_column": null,
            "overflow_y": null,
            "overflow_x": null,
            "grid_auto_flow": null,
            "grid_area": null,
            "grid_template_columns": null,
            "flex": null,
            "_model_name": "LayoutModel",
            "justify_items": null,
            "grid_row": null,
            "max_height": null,
            "align_content": null,
            "visibility": null,
            "align_self": null,
            "height": null,
            "min_height": null,
            "padding": null,
            "grid_auto_rows": null,
            "grid_gap": null,
            "max_width": null,
            "order": null,
            "_view_module_version": "1.2.0",
            "grid_template_areas": null,
            "object_position": null,
            "object_fit": null,
            "grid_auto_columns": null,
            "margin": null,
            "display": null,
            "left": null
          },
          "model_module_version": "1.2.0"
        },
        "379bc15215b245f6826540f5b6d0b02e": {
          "model_module": "@jupyter-widgets/controls",
          "model_name": "FloatProgressModel",
          "state": {
            "_view_name": "ProgressView",
            "style": "IPY_MODEL_f3dd1f7acfff460684c1c0a6d3fb18f4",
            "_dom_classes": [],
            "description": " 99%",
            "_model_name": "FloatProgressModel",
            "bar_style": "danger",
            "max": 23262,
            "_view_module": "@jupyter-widgets/controls",
            "_model_module_version": "1.5.0",
            "value": 23067,
            "_view_count": null,
            "_view_module_version": "1.5.0",
            "orientation": "horizontal",
            "min": 0,
            "description_tooltip": null,
            "_model_module": "@jupyter-widgets/controls",
            "layout": "IPY_MODEL_e9305d2323144fad9aff44399d991509"
          },
          "model_module_version": "1.5.0"
        },
        "978262d5e90545e3a07bfde3c569f3c3": {
          "model_module": "@jupyter-widgets/controls",
          "model_name": "HTMLModel",
          "state": {
            "_view_name": "HTMLView",
            "style": "IPY_MODEL_7c98205edd5840f0b4f494b5ac6a15c8",
            "_dom_classes": [],
            "description": "",
            "_model_name": "HTMLModel",
            "placeholder": "​",
            "_view_module": "@jupyter-widgets/controls",
            "_model_module_version": "1.5.0",
            "value": " 23067/23262 [00:20&lt;00:00, 7996.33 examples/s]",
            "_view_count": null,
            "_view_module_version": "1.5.0",
            "description_tooltip": null,
            "_model_module": "@jupyter-widgets/controls",
            "layout": "IPY_MODEL_9d8be8dd9e2a4bd38cbb1d42342c8aa7"
          },
          "model_module_version": "1.5.0"
        },
        "f3dd1f7acfff460684c1c0a6d3fb18f4": {
          "model_module": "@jupyter-widgets/controls",
          "model_name": "ProgressStyleModel",
          "state": {
            "_view_name": "StyleView",
            "_model_name": "ProgressStyleModel",
            "description_width": "initial",
            "_view_module": "@jupyter-widgets/base",
            "_model_module_version": "1.5.0",
            "_view_count": null,
            "_view_module_version": "1.2.0",
            "bar_color": null,
            "_model_module": "@jupyter-widgets/controls"
          },
          "model_module_version": "1.5.0"
        },
        "e9305d2323144fad9aff44399d991509": {
          "model_module": "@jupyter-widgets/base",
          "model_name": "LayoutModel",
          "state": {
            "_view_name": "LayoutView",
            "grid_template_rows": null,
            "right": null,
            "justify_content": null,
            "_view_module": "@jupyter-widgets/base",
            "overflow": null,
            "_model_module_version": "1.2.0",
            "_view_count": null,
            "flex_flow": null,
            "width": null,
            "min_width": null,
            "border": null,
            "align_items": null,
            "bottom": null,
            "_model_module": "@jupyter-widgets/base",
            "top": null,
            "grid_column": null,
            "overflow_y": null,
            "overflow_x": null,
            "grid_auto_flow": null,
            "grid_area": null,
            "grid_template_columns": null,
            "flex": null,
            "_model_name": "LayoutModel",
            "justify_items": null,
            "grid_row": null,
            "max_height": null,
            "align_content": null,
            "visibility": null,
            "align_self": null,
            "height": null,
            "min_height": null,
            "padding": null,
            "grid_auto_rows": null,
            "grid_gap": null,
            "max_width": null,
            "order": null,
            "_view_module_version": "1.2.0",
            "grid_template_areas": null,
            "object_position": null,
            "object_fit": null,
            "grid_auto_columns": null,
            "margin": null,
            "display": null,
            "left": null
          },
          "model_module_version": "1.2.0"
        },
        "7c98205edd5840f0b4f494b5ac6a15c8": {
          "model_module": "@jupyter-widgets/controls",
          "model_name": "DescriptionStyleModel",
          "state": {
            "_view_name": "StyleView",
            "_model_name": "DescriptionStyleModel",
            "description_width": "",
            "_view_module": "@jupyter-widgets/base",
            "_model_module_version": "1.5.0",
            "_view_count": null,
            "_view_module_version": "1.2.0",
            "_model_module": "@jupyter-widgets/controls"
          },
          "model_module_version": "1.5.0"
        },
        "9d8be8dd9e2a4bd38cbb1d42342c8aa7": {
          "model_module": "@jupyter-widgets/base",
          "model_name": "LayoutModel",
          "state": {
            "_view_name": "LayoutView",
            "grid_template_rows": null,
            "right": null,
            "justify_content": null,
            "_view_module": "@jupyter-widgets/base",
            "overflow": null,
            "_model_module_version": "1.2.0",
            "_view_count": null,
            "flex_flow": null,
            "width": null,
            "min_width": null,
            "border": null,
            "align_items": null,
            "bottom": null,
            "_model_module": "@jupyter-widgets/base",
            "top": null,
            "grid_column": null,
            "overflow_y": null,
            "overflow_x": null,
            "grid_auto_flow": null,
            "grid_area": null,
            "grid_template_columns": null,
            "flex": null,
            "_model_name": "LayoutModel",
            "justify_items": null,
            "grid_row": null,
            "max_height": null,
            "align_content": null,
            "visibility": null,
            "align_self": null,
            "height": null,
            "min_height": null,
            "padding": null,
            "grid_auto_rows": null,
            "grid_gap": null,
            "max_width": null,
            "order": null,
            "_view_module_version": "1.2.0",
            "grid_template_areas": null,
            "object_position": null,
            "object_fit": null,
            "grid_auto_columns": null,
            "margin": null,
            "display": null,
            "left": null
          },
          "model_module_version": "1.2.0"
        }
      }
    }
  },
  "cells": [
    {
      "cell_type": "code",
      "metadata": {
        "id": "ooJBRo86Jcwt"
      },
      "source": [
        "import tensorflow as tf\n",
        "import tensorflow_datasets as tfds \n",
        "import numpy as np\n",
        "import matplotlib.pyplot as plt\n",
        "import random "
      ],
      "execution_count": null,
      "outputs": []
    },
    {
      "cell_type": "markdown",
      "metadata": {
        "id": "o_CM0Fy9IDPe"
      },
      "source": [
        "# 데이터 불러오기 및 정규화"
      ]
    },
    {
      "cell_type": "code",
      "metadata": {
        "id": "puNGT7QjKQob",
        "colab": {
          "base_uri": "https://localhost:8080/",
          "height": 254,
          "referenced_widgets": [
            "ea1b01df21314437a11c3f24214aa3a8",
            "88e77fd25b97477eb878bf7fbd7b1d67",
            "f250175c6be54432a9f3c032d737c3fc",
            "8a5ef804f8f94a8c9aa4e6cfb82b0f31",
            "4e84ba3b2cc9410bad2942ad80396a8d",
            "5d7e9453a5464c5696bba2d5de766414",
            "fcdb92c7da0b459eb0b7f412d74d5642",
            "33e8f58c18454a7798ad8c1d38701993",
            "fde6eb9125fb4d8d9fdd2f76175dd33d",
            "9d1da3ac6e8d45caaef5cc69549e6388",
            "821c5122fe04474b85a4c3f05c7e9e29",
            "1b47d62f6931407090c53a17a79088bb",
            "1be7e478fed44b439f8e6009713d7ecb",
            "e145da1191f4496aa0dd2b21ef6f5528",
            "760cc2249636401d932bb774eb5b443a",
            "b770da656eae48ee94e49c00a4c69242",
            "efc019227c304ffaa7fa0c6c35b9f20f",
            "e6623fb7f7444aeaa4816fdf0f656098",
            "034abcaee8924e61b54b2b1c8b765915",
            "f47e119d382a4844aad5c591d89f7410",
            "68312b3da53346a0a135ff48d42ddc58",
            "6ec58c20d4cf4e44b35f41ccb5b4bab5",
            "abb26eaae96e4c31b05cf00e89ae0ad5",
            "7337709df9f842438d615862d9c1fe56",
            "3c0b0b12234a416fabaa6746384d5d6b",
            "58f42f1846b345afa4adabc1ff207fdc",
            "379bc15215b245f6826540f5b6d0b02e",
            "978262d5e90545e3a07bfde3c569f3c3",
            "f3dd1f7acfff460684c1c0a6d3fb18f4",
            "e9305d2323144fad9aff44399d991509",
            "7c98205edd5840f0b4f494b5ac6a15c8",
            "9d8be8dd9e2a4bd38cbb1d42342c8aa7"
          ]
        },
        "outputId": "067b947e-1bc0-4c42-9897-503ab16f18b5"
      },
      "source": [
        "ds_train = tfds.load('cats_vs_dogs',split='train[:80%]', as_supervised=True)\n",
        "ds_test = tfds.load('cats_vs_dogs',split='train[80%:]', as_supervised=True)"
      ],
      "execution_count": null,
      "outputs": [
        {
          "output_type": "stream",
          "text": [
            "\u001b[1mDownloading and preparing dataset cats_vs_dogs/4.0.0 (download: 786.68 MiB, generated: Unknown size, total: 786.68 MiB) to /root/tensorflow_datasets/cats_vs_dogs/4.0.0...\u001b[0m\n"
          ],
          "name": "stdout"
        },
        {
          "output_type": "display_data",
          "data": {
            "application/vnd.jupyter.widget-view+json": {
              "model_id": "ea1b01df21314437a11c3f24214aa3a8",
              "version_minor": 0,
              "version_major": 2
            },
            "text/plain": [
              "HBox(children=(FloatProgress(value=1.0, bar_style='info', description='Dl Completed...', max=1.0, style=Progre…"
            ]
          },
          "metadata": {
            "tags": []
          }
        },
        {
          "output_type": "display_data",
          "data": {
            "application/vnd.jupyter.widget-view+json": {
              "model_id": "fde6eb9125fb4d8d9fdd2f76175dd33d",
              "version_minor": 0,
              "version_major": 2
            },
            "text/plain": [
              "HBox(children=(FloatProgress(value=1.0, bar_style='info', description='Dl Size...', max=1.0, style=ProgressSty…"
            ]
          },
          "metadata": {
            "tags": []
          }
        },
        {
          "output_type": "stream",
          "text": [
            "\n",
            "\n",
            "\n",
            "\n"
          ],
          "name": "stdout"
        },
        {
          "output_type": "display_data",
          "data": {
            "application/vnd.jupyter.widget-view+json": {
              "model_id": "efc019227c304ffaa7fa0c6c35b9f20f",
              "version_minor": 0,
              "version_major": 2
            },
            "text/plain": [
              "HBox(children=(FloatProgress(value=1.0, bar_style='info', max=1.0), HTML(value='')))"
            ]
          },
          "metadata": {
            "tags": []
          }
        },
        {
          "output_type": "stream",
          "text": [
            "WARNING:absl:1738 images were corrupted and were skipped\n"
          ],
          "name": "stderr"
        },
        {
          "output_type": "stream",
          "text": [
            "\rShuffling and writing examples to /root/tensorflow_datasets/cats_vs_dogs/4.0.0.incompleteET9IVL/cats_vs_dogs-train.tfrecord\n"
          ],
          "name": "stdout"
        },
        {
          "output_type": "display_data",
          "data": {
            "application/vnd.jupyter.widget-view+json": {
              "model_id": "3c0b0b12234a416fabaa6746384d5d6b",
              "version_minor": 0,
              "version_major": 2
            },
            "text/plain": [
              "HBox(children=(FloatProgress(value=0.0, max=23262.0), HTML(value='')))"
            ]
          },
          "metadata": {
            "tags": []
          }
        },
        {
          "output_type": "stream",
          "text": [
            "\u001b[1mDataset cats_vs_dogs downloaded and prepared to /root/tensorflow_datasets/cats_vs_dogs/4.0.0. Subsequent calls will reuse this data.\u001b[0m\n"
          ],
          "name": "stdout"
        }
      ]
    },
    {
      "cell_type": "code",
      "metadata": {
        "id": "xpf8aEXRKNuB"
      },
      "source": [
        "def normalize_img(image, label):\n",
        "  \"\"\"Normalizes images: `uint8` -> `float32`.\"\"\"\n",
        "  image = tf.cast(image, tf.float32)\n",
        "  image = image / 255.\n",
        "  image = tf.image.resize(image, (150,150)) \n",
        "  return image, label\n",
        "\n",
        "ds_train = ds_train.map(\n",
        "    normalize_img, num_parallel_calls=tf.data.experimental.AUTOTUNE)\n",
        "ds_train = ds_train.cache()\n",
        "ds_train = ds_train.batch(128)\n",
        "ds_train = ds_train.prefetch(tf.data.experimental.AUTOTUNE)"
      ],
      "execution_count": null,
      "outputs": []
    },
    {
      "cell_type": "code",
      "metadata": {
        "id": "x9HsTBYAKpwk"
      },
      "source": [
        "ds_test = ds_test.map(\n",
        "    normalize_img, num_parallel_calls=tf.data.experimental.AUTOTUNE)\n",
        "ds_test = ds_test.batch(128)\n",
        "ds_test = ds_test.cache()\n",
        "ds_test = ds_test.prefetch(tf.data.experimental.AUTOTUNE)"
      ],
      "execution_count": null,
      "outputs": []
    },
    {
      "cell_type": "code",
      "metadata": {
        "colab": {
          "base_uri": "https://localhost:8080/"
        },
        "id": "D3IVG9ciOVTC",
        "outputId": "511041b8-7e50-408a-c04e-508427197221"
      },
      "source": [
        "ds_train, ds_test"
      ],
      "execution_count": null,
      "outputs": [
        {
          "output_type": "execute_result",
          "data": {
            "text/plain": [
              "(<PrefetchDataset shapes: ((None, 150, 150, 3), (None,)), types: (tf.float32, tf.int64)>,\n",
              " <PrefetchDataset shapes: ((None, 150, 150, 3), (None,)), types: (tf.float32, tf.int64)>)"
            ]
          },
          "metadata": {
            "tags": []
          },
          "execution_count": 5
        }
      ]
    },
    {
      "cell_type": "markdown",
      "metadata": {
        "id": "OHdy1aoLIRwu"
      },
      "source": [
        "# 모델정의"
      ]
    },
    {
      "cell_type": "code",
      "metadata": {
        "id": "k1qkTy58I7S5"
      },
      "source": [
        "from tensorflow.keras.models import Sequential\n",
        "from tensorflow.keras.layers import Conv2D, MaxPooling2D, Dense, Flatten, Dropout"
      ],
      "execution_count": null,
      "outputs": []
    },
    {
      "cell_type": "code",
      "metadata": {
        "id": "5D1yowpaI8Fg"
      },
      "source": [
        "model = Sequential()\n",
        "model.add(Conv2D(32, (3,3), activation='relu', input_shape=(150, 150, 3)))\n",
        "model.add(MaxPooling2D((2,2)))\n",
        "model.add(Conv2D(32, (3,3), activation='relu'))\n",
        "model.add(MaxPooling2D())\n",
        "model.add(Conv2D(64, (3,3), activation='relu'))\n",
        "model.add(MaxPooling2D())\n",
        "\n",
        "model.add(Flatten())\n",
        "model.add(Dense(120, activation='relu'))\n",
        "model.add(Dropout(0.5))\n",
        "model.add(Dense(84, activation='relu'))\n",
        "model.add(Dense(10, activation='softmax')) # output layer"
      ],
      "execution_count": null,
      "outputs": []
    },
    {
      "cell_type": "code",
      "metadata": {
        "colab": {
          "base_uri": "https://localhost:8080/"
        },
        "id": "JAn6z5YvI8Hh",
        "outputId": "8e57290e-e61e-4822-9af7-0a638f1f2ecb"
      },
      "source": [
        "model.summary()"
      ],
      "execution_count": null,
      "outputs": [
        {
          "output_type": "stream",
          "text": [
            "Model: \"sequential\"\n",
            "_________________________________________________________________\n",
            "Layer (type)                 Output Shape              Param #   \n",
            "=================================================================\n",
            "conv2d (Conv2D)              (None, 148, 148, 32)      896       \n",
            "_________________________________________________________________\n",
            "max_pooling2d (MaxPooling2D) (None, 74, 74, 32)        0         \n",
            "_________________________________________________________________\n",
            "conv2d_1 (Conv2D)            (None, 72, 72, 32)        9248      \n",
            "_________________________________________________________________\n",
            "max_pooling2d_1 (MaxPooling2 (None, 36, 36, 32)        0         \n",
            "_________________________________________________________________\n",
            "conv2d_2 (Conv2D)            (None, 34, 34, 64)        18496     \n",
            "_________________________________________________________________\n",
            "max_pooling2d_2 (MaxPooling2 (None, 17, 17, 64)        0         \n",
            "_________________________________________________________________\n",
            "flatten (Flatten)            (None, 18496)             0         \n",
            "_________________________________________________________________\n",
            "dense (Dense)                (None, 120)               2219640   \n",
            "_________________________________________________________________\n",
            "dropout (Dropout)            (None, 120)               0         \n",
            "_________________________________________________________________\n",
            "dense_1 (Dense)              (None, 84)                10164     \n",
            "_________________________________________________________________\n",
            "dense_2 (Dense)              (None, 10)                850       \n",
            "=================================================================\n",
            "Total params: 2,259,294\n",
            "Trainable params: 2,259,294\n",
            "Non-trainable params: 0\n",
            "_________________________________________________________________\n"
          ],
          "name": "stdout"
        }
      ]
    },
    {
      "cell_type": "markdown",
      "metadata": {
        "id": "nYdqFS_CIbuN"
      },
      "source": [
        "# 모델 컴파일 & 모델 학습"
      ]
    },
    {
      "cell_type": "code",
      "metadata": {
        "id": "nEuO8gEoLM99",
        "colab": {
          "base_uri": "https://localhost:8080/"
        },
        "outputId": "b29e2a39-384f-4aad-f167-61562d3ad67d"
      },
      "source": [
        "model.compile(optimizer='adam', \n",
        "              loss='sparse_categorical_crossentropy', \n",
        "              metrics=['accuracy'])\n",
        "history=model.fit(\n",
        "    ds_train,\n",
        "    epochs=50,\n",
        "    validation_data=ds_test,\n",
        ")"
      ],
      "execution_count": null,
      "outputs": [
        {
          "output_type": "stream",
          "text": [
            "Epoch 1/50\n",
            "146/146 [==============================] - 13s 88ms/step - loss: 0.0329 - accuracy: 0.9876 - val_loss: 0.6918 - val_accuracy: 0.8431\n",
            "Epoch 2/50\n",
            "146/146 [==============================] - 13s 87ms/step - loss: 0.0319 - accuracy: 0.9886 - val_loss: 0.6875 - val_accuracy: 0.8469\n",
            "Epoch 3/50\n",
            "146/146 [==============================] - 13s 87ms/step - loss: 0.0339 - accuracy: 0.9877 - val_loss: 0.6606 - val_accuracy: 0.8530\n",
            "Epoch 4/50\n",
            "146/146 [==============================] - 13s 87ms/step - loss: 0.0323 - accuracy: 0.9878 - val_loss: 0.7123 - val_accuracy: 0.8482\n",
            "Epoch 5/50\n",
            "146/146 [==============================] - 13s 87ms/step - loss: 0.0303 - accuracy: 0.9882 - val_loss: 0.7516 - val_accuracy: 0.8459\n",
            "Epoch 6/50\n",
            "146/146 [==============================] - 13s 87ms/step - loss: 0.0288 - accuracy: 0.9899 - val_loss: 0.7259 - val_accuracy: 0.8463\n",
            "Epoch 7/50\n",
            "146/146 [==============================] - 13s 87ms/step - loss: 0.0240 - accuracy: 0.9915 - val_loss: 0.7576 - val_accuracy: 0.8424\n",
            "Epoch 8/50\n",
            "146/146 [==============================] - 13s 87ms/step - loss: 0.0276 - accuracy: 0.9896 - val_loss: 0.7595 - val_accuracy: 0.8366\n",
            "Epoch 9/50\n",
            "146/146 [==============================] - 13s 87ms/step - loss: 0.0311 - accuracy: 0.9882 - val_loss: 0.6815 - val_accuracy: 0.8461\n",
            "Epoch 10/50\n",
            "146/146 [==============================] - 13s 88ms/step - loss: 0.0221 - accuracy: 0.9919 - val_loss: 0.7560 - val_accuracy: 0.8407\n",
            "Epoch 11/50\n",
            "146/146 [==============================] - 13s 87ms/step - loss: 0.0232 - accuracy: 0.9908 - val_loss: 0.8176 - val_accuracy: 0.8474\n",
            "Epoch 12/50\n",
            "146/146 [==============================] - 13s 87ms/step - loss: 0.0303 - accuracy: 0.9895 - val_loss: 0.8025 - val_accuracy: 0.8424\n",
            "Epoch 13/50\n",
            "146/146 [==============================] - 13s 87ms/step - loss: 0.0308 - accuracy: 0.9887 - val_loss: 0.7366 - val_accuracy: 0.8497\n",
            "Epoch 14/50\n",
            "146/146 [==============================] - 13s 86ms/step - loss: 0.0263 - accuracy: 0.9904 - val_loss: 0.7793 - val_accuracy: 0.8403\n",
            "Epoch 15/50\n",
            "146/146 [==============================] - 13s 87ms/step - loss: 0.0271 - accuracy: 0.9898 - val_loss: 0.9118 - val_accuracy: 0.8433\n",
            "Epoch 16/50\n",
            "146/146 [==============================] - 13s 87ms/step - loss: 0.0261 - accuracy: 0.9909 - val_loss: 0.8679 - val_accuracy: 0.8315\n",
            "Epoch 17/50\n",
            "146/146 [==============================] - 13s 87ms/step - loss: 0.0250 - accuracy: 0.9909 - val_loss: 1.0345 - val_accuracy: 0.8261\n",
            "Epoch 18/50\n",
            "146/146 [==============================] - 13s 87ms/step - loss: 0.0250 - accuracy: 0.9902 - val_loss: 0.7503 - val_accuracy: 0.8347\n",
            "Epoch 19/50\n",
            "146/146 [==============================] - 13s 88ms/step - loss: 0.0246 - accuracy: 0.9914 - val_loss: 0.8096 - val_accuracy: 0.8411\n",
            "Epoch 20/50\n",
            "146/146 [==============================] - 13s 87ms/step - loss: 0.0217 - accuracy: 0.9922 - val_loss: 0.9264 - val_accuracy: 0.8282\n",
            "Epoch 21/50\n",
            "146/146 [==============================] - 13s 87ms/step - loss: 0.0219 - accuracy: 0.9915 - val_loss: 0.8135 - val_accuracy: 0.8375\n",
            "Epoch 22/50\n",
            "146/146 [==============================] - 13s 87ms/step - loss: 0.0222 - accuracy: 0.9917 - val_loss: 0.8426 - val_accuracy: 0.8437\n",
            "Epoch 23/50\n",
            "146/146 [==============================] - 13s 87ms/step - loss: 0.0210 - accuracy: 0.9923 - val_loss: 0.7717 - val_accuracy: 0.8431\n",
            "Epoch 24/50\n",
            "146/146 [==============================] - 13s 86ms/step - loss: 0.0253 - accuracy: 0.9903 - val_loss: 0.7437 - val_accuracy: 0.8429\n",
            "Epoch 25/50\n",
            "146/146 [==============================] - 13s 87ms/step - loss: 0.0217 - accuracy: 0.9920 - val_loss: 0.8808 - val_accuracy: 0.8343\n",
            "Epoch 26/50\n",
            "146/146 [==============================] - 13s 87ms/step - loss: 0.0231 - accuracy: 0.9909 - val_loss: 0.9179 - val_accuracy: 0.8349\n",
            "Epoch 27/50\n",
            "146/146 [==============================] - 13s 87ms/step - loss: 0.0229 - accuracy: 0.9919 - val_loss: 0.8114 - val_accuracy: 0.8366\n",
            "Epoch 28/50\n",
            "146/146 [==============================] - 13s 87ms/step - loss: 0.0216 - accuracy: 0.9917 - val_loss: 0.8558 - val_accuracy: 0.8373\n",
            "Epoch 29/50\n",
            "146/146 [==============================] - 13s 87ms/step - loss: 0.0207 - accuracy: 0.9911 - val_loss: 0.9316 - val_accuracy: 0.8298\n",
            "Epoch 30/50\n",
            "146/146 [==============================] - 13s 87ms/step - loss: 0.0227 - accuracy: 0.9917 - val_loss: 0.8394 - val_accuracy: 0.8388\n",
            "Epoch 31/50\n",
            "146/146 [==============================] - 13s 87ms/step - loss: 0.0199 - accuracy: 0.9929 - val_loss: 0.8254 - val_accuracy: 0.8409\n",
            "Epoch 32/50\n",
            "146/146 [==============================] - 13s 87ms/step - loss: 0.0223 - accuracy: 0.9911 - val_loss: 1.0423 - val_accuracy: 0.8321\n",
            "Epoch 33/50\n",
            "146/146 [==============================] - 13s 87ms/step - loss: 0.0213 - accuracy: 0.9916 - val_loss: 1.0032 - val_accuracy: 0.8414\n",
            "Epoch 34/50\n",
            "146/146 [==============================] - 13s 87ms/step - loss: 0.0189 - accuracy: 0.9927 - val_loss: 1.0385 - val_accuracy: 0.8289\n",
            "Epoch 35/50\n",
            "146/146 [==============================] - 13s 87ms/step - loss: 0.0211 - accuracy: 0.9917 - val_loss: 1.1048 - val_accuracy: 0.8272\n",
            "Epoch 36/50\n",
            "146/146 [==============================] - 13s 87ms/step - loss: 0.0244 - accuracy: 0.9912 - val_loss: 0.8092 - val_accuracy: 0.8399\n",
            "Epoch 37/50\n",
            "146/146 [==============================] - 13s 87ms/step - loss: 0.0197 - accuracy: 0.9923 - val_loss: 0.7258 - val_accuracy: 0.8469\n",
            "Epoch 38/50\n",
            "146/146 [==============================] - 13s 87ms/step - loss: 0.0205 - accuracy: 0.9924 - val_loss: 0.8972 - val_accuracy: 0.8399\n",
            "Epoch 39/50\n",
            "146/146 [==============================] - 13s 87ms/step - loss: 0.0189 - accuracy: 0.9929 - val_loss: 0.9352 - val_accuracy: 0.8426\n",
            "Epoch 40/50\n",
            "146/146 [==============================] - 13s 87ms/step - loss: 0.0175 - accuracy: 0.9931 - val_loss: 0.9233 - val_accuracy: 0.8446\n",
            "Epoch 41/50\n",
            "146/146 [==============================] - 13s 86ms/step - loss: 0.0189 - accuracy: 0.9924 - val_loss: 0.8712 - val_accuracy: 0.8457\n",
            "Epoch 42/50\n",
            "146/146 [==============================] - 13s 88ms/step - loss: 0.0245 - accuracy: 0.9912 - val_loss: 0.7729 - val_accuracy: 0.8457\n",
            "Epoch 43/50\n",
            "146/146 [==============================] - 13s 87ms/step - loss: 0.0140 - accuracy: 0.9945 - val_loss: 0.9407 - val_accuracy: 0.8487\n",
            "Epoch 44/50\n",
            "146/146 [==============================] - 13s 88ms/step - loss: 0.0166 - accuracy: 0.9939 - val_loss: 0.9656 - val_accuracy: 0.8328\n",
            "Epoch 45/50\n",
            "146/146 [==============================] - 13s 87ms/step - loss: 0.0205 - accuracy: 0.9922 - val_loss: 0.8370 - val_accuracy: 0.8461\n",
            "Epoch 46/50\n",
            "146/146 [==============================] - 13s 87ms/step - loss: 0.0184 - accuracy: 0.9929 - val_loss: 0.8384 - val_accuracy: 0.8469\n",
            "Epoch 47/50\n",
            "146/146 [==============================] - 13s 87ms/step - loss: 0.0160 - accuracy: 0.9935 - val_loss: 0.8191 - val_accuracy: 0.8500\n",
            "Epoch 48/50\n",
            "146/146 [==============================] - 13s 87ms/step - loss: 0.0213 - accuracy: 0.9927 - val_loss: 0.8168 - val_accuracy: 0.8459\n",
            "Epoch 49/50\n",
            "146/146 [==============================] - 13s 87ms/step - loss: 0.0170 - accuracy: 0.9936 - val_loss: 0.8196 - val_accuracy: 0.8493\n",
            "Epoch 50/50\n",
            "146/146 [==============================] - 13s 87ms/step - loss: 0.0151 - accuracy: 0.9941 - val_loss: 1.0191 - val_accuracy: 0.8446\n"
          ],
          "name": "stdout"
        }
      ]
    },
    {
      "cell_type": "markdown",
      "metadata": {
        "id": "jSELT74VJs_1"
      },
      "source": [
        "# 학습 결과 확인\n"
      ]
    },
    {
      "cell_type": "code",
      "metadata": {
        "colab": {
          "base_uri": "https://localhost:8080/",
          "height": 279
        },
        "id": "jjnMDUjMn4au",
        "outputId": "a7e70cad-69bd-48ac-b6de-421e4e7f61a8"
      },
      "source": [
        "fig, ax = plt.subplots(1, 2)\n",
        "ax[0].plot(history.history['loss'],\n",
        "         label='train loss',\n",
        "         c='orange', ls='-')\n",
        "ax[0].plot(history.history['val_loss'],\n",
        "         label='val loss',\n",
        "         c='orange',ls='--')\n",
        "ax[0].set_ylabel('Loss')\n",
        "\n",
        "ax[1].plot(history.history['accuracy'],\n",
        "         label='train accuracy',\n",
        "         c='dodgerblue', ls='-')\n",
        "ax[1].plot(history.history['val_accuracy'],\n",
        "         label='val accuracy',\n",
        "         c='dodgerblue', ls='--')\n",
        "ax[1].set_ylabel('Accuracy')\n",
        "\n",
        "plt.xlabel('Epoch')\n",
        "plt.legend(loc='lower right')\n",
        "plt.show()"
      ],
      "execution_count": null,
      "outputs": [
        {
          "output_type": "display_data",
          "data": {
            "image/png": "[encoded data removed]",
            "text/plain": [
              "<Figure size 432x288 with 2 Axes>"
            ]
          },
          "metadata": {
            "tags": [],
            "needs_background": "light"
          }
        }
      ]
    },
    {
      "cell_type": "markdown",
      "metadata": {
        "id": "AEIAzCGpJweE"
      },
      "source": [
        "# 모델 평가\n"
      ]
    },
    {
      "cell_type": "code",
      "metadata": {
        "colab": {
          "base_uri": "https://localhost:8080/"
        },
        "id": "XHaC9gNFOr3V",
        "outputId": "6d044972-f96b-41a2-c20c-5b267efad6ad"
      },
      "source": [
        "test_loss, test_acc = model.evaluate(ds_train)\n",
        "test_loss, test_acc = model.evaluate(ds_test)\n",
        "\n"
      ],
      "execution_count": null,
      "outputs": [
        {
          "output_type": "stream",
          "text": [
            "146/146 [==============================] - 4s 26ms/step - loss: 0.0050 - accuracy: 0.9988\n",
            "37/37 [==============================] - 1s 14ms/step - loss: 0.7643 - accuracy: 0.8431\n"
          ],
          "name": "stdout"
        }
      ]
    },
    {
      "cell_type": "markdown",
      "metadata": {
        "id": "1jSZOaDCJ29p"
      },
      "source": [
        "# 결과 예측"
      ]
    },
    {
      "cell_type": "code",
      "metadata": {
        "colab": {
          "base_uri": "https://localhost:8080/"
        },
        "id": "ylSplJUUpNEV",
        "outputId": "868fb648-1afe-4fe0-808c-8b9bb7ea794f"
      },
      "source": [
        "# 가장 확률이 높은 클래스 예측\n",
        "pred = np.argmax(model.predict(ds_test), axis=1)\n",
        "print(model.predict(ds_test))\n",
        "\n",
        "# print('예측 결과 Shape:', pred.shape)\n",
        "print('테스트 데이터셋 예측 결과 class 분류:', pred)\n",
        "\n"
      ],
      "execution_count": null,
      "outputs": [
        {
          "output_type": "stream",
          "text": [
            "[[9.2520082e-01 7.4798606e-02 6.7293954e-08 ... 6.2731083e-08\n",
            "  6.8619116e-08 7.1130287e-08]\n",
            " [5.1182610e-01 4.8816952e-01 5.9854108e-07 ... 7.2004337e-07\n",
            "  2.9968106e-07 2.9402261e-07]\n",
            " [1.4320319e-04 9.9985683e-01 1.4456396e-10 ... 2.4405977e-10\n",
            "  1.3719050e-11 1.6325776e-11]\n",
            " ...\n",
            " [7.7659592e-02 9.2231315e-01 4.0848213e-06 ... 4.5332249e-06\n",
            "  2.1302226e-06 2.1231585e-06]\n",
            " [1.3678233e-01 8.6317539e-01 6.1074970e-06 ... 7.4349177e-06\n",
            "  2.8465001e-06 2.9341957e-06]\n",
            " [1.9935574e-02 9.8005164e-01 2.0334946e-06 ... 2.3419493e-06\n",
            "  7.7175832e-07 8.6861041e-07]]\n",
            "테스트 데이터셋 예측 결과 class 분류: [0 0 1 ... 1 1 1]\n"
          ],
          "name": "stdout"
        }
      ]
    },
    {
      "cell_type": "code",
      "metadata": {
        "id": "Yn4aTqRxNzlY"
      },
      "source": [
        "ds_test = tfds.load('cats_vs_dogs',split='train[80%:]', as_supervised=True)\n"
      ],
      "execution_count": null,
      "outputs": []
    },
    {
      "cell_type": "code",
      "metadata": {
        "id": "4NQRxoctOH9a",
        "colab": {
          "base_uri": "https://localhost:8080/"
        },
        "outputId": "c5db3af4-e6c9-48a2-b39f-cc905d71c5b1"
      },
      "source": [
        "labels=[]\n",
        "images=[]\n",
        "\n",
        "for image, label in ds_test:\n",
        "  l=int(label.numpy())\n",
        "  labels.append(l)\n",
        "  i=image.numpy().astype(\"uint8\")\n",
        "  images.append(i)\n",
        "\n",
        "labels=np.array(labels)\n",
        "print(\"image label list\", labels)"
      ],
      "execution_count": null,
      "outputs": [
        {
          "output_type": "stream",
          "text": [
            "image label list [1 0 1 ... 0 1 0]\n"
          ],
          "name": "stdout"
        }
      ]
    },
    {
      "cell_type": "code",
      "metadata": {
        "id": "ozu4anKL9cB_"
      },
      "source": [
        "import random"
      ],
      "execution_count": null,
      "outputs": []
    },
    {
      "cell_type": "code",
      "metadata": {
        "colab": {
          "base_uri": "https://localhost:8080/",
          "height": 320
        },
        "id": "G3HGpw_R9uFB",
        "outputId": "46f3d96c-b0a3-4969-d4c4-401dcf17ce0f"
      },
      "source": [
        "class_names=['cat','dog']\n",
        "test_label=random.randint(0, 4652)\n",
        "\n",
        "real= labels[test_label]\n",
        "predict= pred[test_label]\n",
        "if real==predict:\n",
        "  print(\"예측성공\")\n",
        "\n",
        "else:\n",
        "  print(\"예측실패\")\n",
        "\n",
        "print(\"real:\",class_names[real], \"predict:\", class_names[predict])\n",
        "\n",
        "plt.imshow(images[test_label])\n"
      ],
      "execution_count": null,
      "outputs": [
        {
          "output_type": "stream",
          "text": [
            "예측성공\n",
            "real: cat predict: cat\n"
          ],
          "name": "stdout"
        },
        {
          "output_type": "execute_result",
          "data": {
            "text/plain": [
              "<matplotlib.image.AxesImage at 0x7fe62cd2a1d0>"
            ]
          },
          "metadata": {
            "tags": []
          },
          "execution_count": 173
        },
        {
          "output_type": "display_data",
          "data": {
            "image/png": "[encoded data removed]",
            "text/plain": [
              "<Figure size 432x288 with 1 Axes>"
            ]
          },
          "metadata": {
            "tags": [],
            "needs_background": "light"
          }
        }
      ]
    },
    {
      "cell_type": "code",
      "metadata": {
        "id": "8NNdm43lBr5j"
      },
      "source": [
        ""
      ],
      "execution_count": null,
      "outputs": []
    }
  ]
}